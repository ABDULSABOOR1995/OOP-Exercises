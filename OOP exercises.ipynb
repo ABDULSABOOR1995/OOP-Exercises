{
 "cells": [
  {
   "cell_type": "code",
   "execution_count": null,
   "metadata": {},
   "outputs": [],
   "source": [
    "'''1. Write a Python class named Circle constructed by a radius and two methods\n",
    "which will compute the area and the perimeter of a circle.'''\n",
    "\n",
    "class Circle():\n",
    "    def __init__(self, radius):\n",
    "        self.radius = radius\n",
    "        self.pi = 3.14\n",
    "        \n",
    "    def compute_area(self):\n",
    "        return (self.radius* self.radius* self.pi)\n",
    "    \n",
    "    def compute_perimeter(self):\n",
    "        return(2* self.pi* self.radius)\n",
    "\n",
    "circle1 = Circle(3)\n",
    "print(\"Area of circle is \"+str(circle1.compute_area()))\n",
    "print(\"Perimeter of circle is \"+str(circle1.compute_perimeter()))"
   ]
  },
  {
   "cell_type": "code",
   "execution_count": null,
   "metadata": {},
   "outputs": [],
   "source": [
    "'''2. Write a Python class named Rectangle constructed by a length and width\n",
    "and a method which will compute the area of a rectangle. '''\n",
    "\n",
    "class Rectangle():\n",
    "    def __init__(self, width, length):\n",
    "        self.width = width\n",
    "        self.length = length\n",
    "        \n",
    "    def compute_area(self):\n",
    "        return (self.width * self.length)\n",
    "    \n",
    "rectangle1 = Rectangle(2, 4)\n",
    "print(\"Area of rectangle 1 is: \"+str(rectangle1.compute_area()))"
   ]
  },
  {
   "cell_type": "code",
   "execution_count": null,
   "metadata": {},
   "outputs": [],
   "source": [
    "'''3. Write a Python class which has two methods get_String and print_String.\n",
    "get_String accept a string from the user and print_String print the string in\n",
    "upper case.'''\n",
    "\n",
    "class Response_to_user():\n",
    "    def __init__(self, string):\n",
    "        self.string = string\n",
    "        \n",
    "    def accept_string(self):\n",
    "        print(\"Your String is accepted\")\n",
    "        \n",
    "    def print_string(self):\n",
    "        print(self.string)\n",
    "response = input(\"Enter your response\")\n",
    "obj = Response_to_user(response)\n",
    "obj.accept_string()\n",
    "obj.print_string()\n",
    "\n",
    "# string accept kese hota h dekhna h"
   ]
  },
  {
   "cell_type": "code",
   "execution_count": null,
   "metadata": {},
   "outputs": [],
   "source": [
    "'''4. Write a Python class to reverse a string word by word.\n",
    "Input string : 'hello .py'\n",
    "Expected Output : '.py hello'''\n",
    "\n",
    "class Reverse_String():\n",
    "    def __init__(self, string):\n",
    "        self.string = string\n",
    "        \n",
    "    def do_reverse(self):\n",
    "        s = ''\n",
    "        words = self.string.split()\n",
    "        for i in range(len(words)-1, -1, -1):\n",
    "            s+= words[i]+\" \"\n",
    "        return s\n",
    "\n",
    "string = input(\"Enter String: \")\n",
    "obj = Reverse_String(string)\n",
    "print(\"Reversed string is:\\n\"+str(obj.do_reverse()))"
   ]
  },
  {
   "cell_type": "code",
   "execution_count": null,
   "metadata": {},
   "outputs": [],
   "source": [
    "'''5. Write a Python class to implement pow(x, n).'''\n",
    "\n",
    "class Power():\n",
    "    def __init__(self, x, n):\n",
    "        self.x = x\n",
    "        self.n = n\n",
    "        \n",
    "    def compute_power(self):\n",
    "        return(pow(self.x, self.n))\n",
    "    \n",
    "x = int(input(\"Enter Base: \"))\n",
    "n = int(input(\"Enter Power: \"))\n",
    "obj = Power(x, n)\n",
    "print(str(x)+\" ^ \"+str(n)+\" = \"+str(obj.compute_power()))"
   ]
  },
  {
   "cell_type": "code",
   "execution_count": 2,
   "metadata": {},
   "outputs": [
    {
     "data": {
      "text/plain": [
       "array([[-10,   2,   8],\n",
       "       [ -7,  -3,  10]])"
      ]
     },
     "execution_count": 2,
     "metadata": {},
     "output_type": "execute_result"
    }
   ],
   "source": [
    "'''6. Write a Python class to find the three elements that sum to zero\n",
    "   from a set of n real numbers.'''\n",
    "class Sum_to_zero():\n",
    "    def __init__(self, nums):\n",
    "        self.nums = nums\n",
    "        \n",
    "    def find_elements(self):\n",
    "        sets = []\n",
    "        complete_set = []\n",
    "        for i in range(0, len(self.nums)):\n",
    "            for j in range(i+1, len(self.nums)-1):\n",
    "                for k in range(j+1, len(self.nums)):\n",
    "                    if self.nums[i] + self.nums[j] + self.nums[k] == 0:\n",
    "                        sets.append(self.nums[i])\n",
    "                        sets.append(self.nums[j])\n",
    "                        sets.append(self.nums[k])\n",
    "        import numpy as np\n",
    "        sets = np.array(sets).reshape(2,3)\n",
    "        return sets    \n",
    "\n",
    "        \n",
    "nums = [-25, -10, -7, -3, 2, 4, 8, 10]\n",
    "obj = Sum_to_zero(nums)\n",
    "obj.find_elements()"
   ]
  },
  {
   "cell_type": "code",
   "execution_count": 3,
   "metadata": {},
   "outputs": [
    {
     "data": {
      "text/plain": [
       "array([[0, 3],\n",
       "       [2, 3]])"
      ]
     },
     "execution_count": 3,
     "metadata": {},
     "output_type": "execute_result"
    }
   ],
   "source": [
    "'''7. Write a Python class to find a pair of elements (indices of the two numbers)\n",
    "from a given array whose sum equals a specific target number.\n",
    "Input: numbers= [10,20,10,40,50,60,70], target=50\n",
    "Output: 3, 4'''\n",
    "class Index_pair():\n",
    "    def __init__(self, numbers):\n",
    "        self.numbers = numbers\n",
    "        \n",
    "    def find_index(self):\n",
    "        pair_indices = []\n",
    "        for i in range(0, len(self.numbers)-1):\n",
    "            for j in range(i+1, len(self.numbers)):\n",
    "                if self.numbers[i] + self.numbers[j] == 50:\n",
    "                    pair_indices.append(i)\n",
    "                    pair_indices.append(j)\n",
    "        import numpy as np\n",
    "        pair_indices = np.array(pair_indices).reshape(2,2)\n",
    "        return pair_indices\n",
    "\n",
    "numbers= [10,20,10,40,50,60,70]\n",
    "obj = Index_pair(numbers)\n",
    "obj.find_index()"
   ]
  },
  {
   "cell_type": "code",
   "execution_count": null,
   "metadata": {},
   "outputs": [],
   "source": []
  }
 ],
 "metadata": {
  "kernelspec": {
   "display_name": "Python 3",
   "language": "python",
   "name": "python3"
  },
  "language_info": {
   "codemirror_mode": {
    "name": "ipython",
    "version": 3
   },
   "file_extension": ".py",
   "mimetype": "text/x-python",
   "name": "python",
   "nbconvert_exporter": "python",
   "pygments_lexer": "ipython3",
   "version": "3.6.5"
  }
 },
 "nbformat": 4,
 "nbformat_minor": 2
}
